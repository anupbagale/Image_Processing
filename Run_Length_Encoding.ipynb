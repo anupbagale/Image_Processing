{
  "nbformat": 4,
  "nbformat_minor": 0,
  "metadata": {
    "colab": {
      "provenance": [],
      "authorship_tag": "ABX9TyNRzfYlMbGOeC95iMebges+",
      "include_colab_link": true
    },
    "kernelspec": {
      "name": "python3",
      "display_name": "Python 3"
    },
    "language_info": {
      "name": "python"
    }
  },
  "cells": [
    {
      "cell_type": "markdown",
      "metadata": {
        "id": "view-in-github",
        "colab_type": "text"
      },
      "source": [
        "<a href=\"https://colab.research.google.com/github/anupbagale/Image_Processing/blob/main/Run_Length_Encoding.ipynb\" target=\"_parent\"><img src=\"https://colab.research.google.com/assets/colab-badge.svg\" alt=\"Open In Colab\"/></a>"
      ]
    },
    {
      "cell_type": "code",
      "source": [
        "from google.colab import drive\n",
        "drive.mount('/content/drive')"
      ],
      "metadata": {
        "colab": {
          "base_uri": "https://localhost:8080/"
        },
        "id": "lb1Z4vhGIyzn",
        "outputId": "9c576e5b-98b8-4c2d-abf4-1fff578abdcb"
      },
      "execution_count": 131,
      "outputs": [
        {
          "output_type": "stream",
          "name": "stdout",
          "text": [
            "Drive already mounted at /content/drive; to attempt to forcibly remount, call drive.mount(\"/content/drive\", force_remount=True).\n"
          ]
        }
      ]
    },
    {
      "cell_type": "code",
      "source": [
        "import cv2\n",
        "import numpy as np\n",
        "import matplotlib.pyplot as plt"
      ],
      "metadata": {
        "id": "VT2X4wOPP-iZ"
      },
      "execution_count": 132,
      "outputs": []
    },
    {
      "cell_type": "markdown",
      "source": [
        "### RLE for message"
      ],
      "metadata": {
        "id": "6ZMJUuTN_Fn8"
      }
    },
    {
      "cell_type": "code",
      "source": [
        "def RLE(img):\n",
        "  i=0\n",
        "  count_str= \" \"\n",
        "  while i<len(img):\n",
        "    count=1\n",
        "    while i+1<len(img) and img[i]==img[i+1]:\n",
        "      count+=1\n",
        "      i+=1\n",
        "    count_str+=str(count)+img[i]\n",
        "    i+=1\n",
        "  return count_str"
      ],
      "metadata": {
        "id": "1zYpDPSZ8nZG"
      },
      "execution_count": 133,
      "outputs": []
    },
    {
      "cell_type": "code",
      "source": [
        "message=input('Enter a message')\n",
        "encoded_string=RLE(message)\n",
        "print('Encoded text is:',encoded_string)"
      ],
      "metadata": {
        "colab": {
          "base_uri": "https://localhost:8080/"
        },
        "id": "ZpdrEe0v91BY",
        "outputId": "5ed11381-9e83-40df-8f1d-ee3c8bf14427"
      },
      "execution_count": 134,
      "outputs": [
        {
          "output_type": "stream",
          "name": "stdout",
          "text": [
            "Enter a messageHello, How aaree youuu?\n",
            "Encoded text is:  1H1e2l1o1,1 1H1o1w1 2a1r2e1 1y1o3u1?\n"
          ]
        }
      ]
    },
    {
      "cell_type": "markdown",
      "source": [
        "### RLE for image"
      ],
      "metadata": {
        "id": "MHo-PF2J_I4E"
      }
    },
    {
      "cell_type": "code",
      "source": [
        "def RLE(img_array):\n",
        "    img_flat = img_array.flatten()\n",
        "    encoding = []\n",
        "    i = 0\n",
        "\n",
        "    while i < len(img_flat):\n",
        "        count = 1\n",
        "        while i + 1 < len(img_flat) and img_flat[i] == img_flat[i + 1]:\n",
        "            count += 1\n",
        "            i += 1\n",
        "        encoding.append(f\"{count} {img_flat[i]}\")\n",
        "        i += 1\n",
        "\n",
        "    return ' '.join(encoding)\n",
        "\n",
        "image_path = '/content/drive/MyDrive/image_processing_lab/leena_img.png'\n",
        "message = cv2.imread(image_path, cv2.IMREAD_GRAYSCALE)\n",
        "\n",
        "encoded_string = RLE(message)\n",
        "#print('Encoded text is:', encoded_string)"
      ],
      "metadata": {
        "id": "eC02TBZx-5lH"
      },
      "execution_count": 135,
      "outputs": []
    }
  ]
}