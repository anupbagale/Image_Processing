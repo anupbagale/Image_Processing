{
  "nbformat": 4,
  "nbformat_minor": 0,
  "metadata": {
    "colab": {
      "provenance": [],
      "authorship_tag": "ABX9TyM78In9ml0oT+l6W+BVcwzX",
      "include_colab_link": true
    },
    "kernelspec": {
      "name": "python3",
      "display_name": "Python 3"
    },
    "language_info": {
      "name": "python"
    }
  },
  "cells": [
    {
      "cell_type": "markdown",
      "metadata": {
        "id": "view-in-github",
        "colab_type": "text"
      },
      "source": [
        "<a href=\"https://colab.research.google.com/github/anupbagale/Image_Processing/blob/main/Hauffman_encoding.ipynb\" target=\"_parent\"><img src=\"https://colab.research.google.com/assets/colab-badge.svg\" alt=\"Open In Colab\"/></a>"
      ]
    },
    {
      "cell_type": "code",
      "source": [
        "import heapq\n",
        "from collections import defaultdict, Counter"
      ],
      "metadata": {
        "id": "u8js29OBDSI6"
      },
      "execution_count": 137,
      "outputs": []
    },
    {
      "cell_type": "code",
      "source": [
        "# Node class for the Huffman Tree\n",
        "class Node:\n",
        "    def __init__(self, char, freq):\n",
        "        self.char = char\n",
        "        self.freq = freq\n",
        "        self.left = None\n",
        "        self.right = None\n",
        "\n",
        "    # Define comparison operators for priority queue\n",
        "    def __lt__(self, other):\n",
        "        return self.freq < other.freq"
      ],
      "metadata": {
        "id": "_r1UkYydDUDf"
      },
      "execution_count": 138,
      "outputs": []
    },
    {
      "cell_type": "code",
      "source": [
        "# Function to build the Huffman Tree\n",
        "def build_huffman_tree(frequencies):\n",
        "    heap = [Node(char, freq) for char, freq in frequencies.items()]\n",
        "    heapq.heapify(heap)\n",
        "\n",
        "    while len(heap) > 1:\n",
        "        left = heapq.heappop(heap)\n",
        "        right = heapq.heappop(heap)\n",
        "        merged = Node(None, left.freq + right.freq)\n",
        "        merged.left = left\n",
        "        merged.right = right\n",
        "        heapq.heappush(heap, merged)\n",
        "\n",
        "    return heap[0]"
      ],
      "metadata": {
        "id": "IBgqBoALDZBz"
      },
      "execution_count": 139,
      "outputs": []
    },
    {
      "cell_type": "code",
      "source": [
        "# Function to generate Huffman Codes\n",
        "def generate_huffman_codes(root, current_code=\"\", codes={}):\n",
        "    if root is None:\n",
        "        return\n",
        "\n",
        "    if root.char is not None:\n",
        "        codes[root.char] = current_code\n",
        "\n",
        "    generate_huffman_codes(root.left, current_code + \"0\", codes)\n",
        "    generate_huffman_codes(root.right, current_code + \"1\", codes)\n",
        "\n",
        "    return codes"
      ],
      "metadata": {
        "id": "QSoXN1TnDbVh"
      },
      "execution_count": 140,
      "outputs": []
    },
    {
      "cell_type": "code",
      "source": [
        "# Function to encode the text using Huffman Codes\n",
        "def huffman_encode(text, codes):\n",
        "    return ''.join(codes[char] for char in text)"
      ],
      "metadata": {
        "id": "QohD5Pr0DeGm"
      },
      "execution_count": 141,
      "outputs": []
    },
    {
      "cell_type": "code",
      "source": [
        "# Function to decode the encoded text using Huffman Tree\n",
        "def huffman_decode(encoded_text, root):\n",
        "    decoded_text = []\n",
        "    current_node = root\n",
        "\n",
        "    for bit in encoded_text:\n",
        "        if bit == '0':\n",
        "            current_node = current_node.left\n",
        "        else:\n",
        "            current_node = current_node.right\n",
        "\n",
        "        if current_node.char is not None:\n",
        "            decoded_text.append(current_node.char)\n",
        "            current_node = root\n",
        "\n",
        "    return ''.join(decoded_text)"
      ],
      "metadata": {
        "id": "vcIVK8o_Dhw9"
      },
      "execution_count": 142,
      "outputs": []
    },
    {
      "cell_type": "code",
      "source": [
        "if __name__ == \"__main__\":\n",
        "    text = \"Hello, how are you?\"\n",
        "    frequencies = Counter(text)\n",
        "\n",
        "    # Build Huffman Tree\n",
        "    root = build_huffman_tree(frequencies)\n",
        "\n",
        "    # Generate Huffman Codes\n",
        "    codes = generate_huffman_codes(root)\n",
        "\n",
        "    # Print Huffman Codes\n",
        "    print(\"Huffman Codes:\")\n",
        "    for char, code in codes.items():\n",
        "        print(f\"{char}: {code}\")\n",
        "\n",
        "    # Encode the text\n",
        "    encoded_text = huffman_encode(text, codes)\n",
        "    print(\"\\nEncoded Text:\")\n",
        "    print(encoded_text)\n",
        "\n",
        "    # Decode the encoded text\n",
        "    decoded_text = huffman_decode(encoded_text, root)\n",
        "    print(\"\\nDecoded Text:\")\n",
        "    print(decoded_text)\n",
        "\n",
        "    # Verify the original text is restored\n",
        "    assert text == decoded_text\n"
      ],
      "metadata": {
        "colab": {
          "base_uri": "https://localhost:8080/"
        },
        "id": "HTEgN6ShDlI9",
        "outputId": "05b91128-49a0-4f45-bfa8-ecfd514abb31"
      },
      "execution_count": 143,
      "outputs": [
        {
          "output_type": "stream",
          "name": "stdout",
          "text": [
            "Huffman Codes:\n",
            "y: 0000\n",
            ",: 0001\n",
            "e: 001\n",
            "h: 0100\n",
            "?: 0101\n",
            "r: 0110\n",
            "a: 0111\n",
            "u: 1000\n",
            "H: 1001\n",
            "w: 1010\n",
            "l: 1011\n",
            "o: 110\n",
            " : 111\n",
            "\n",
            "Encoded Text:\n",
            "10010011011101111000011110100110101011101110110001111000011010000101\n",
            "\n",
            "Decoded Text:\n",
            "Hello, how are you?\n"
          ]
        }
      ]
    },
    {
      "cell_type": "code",
      "source": [],
      "metadata": {
        "id": "zHfSJv1VDApR"
      },
      "execution_count": 143,
      "outputs": []
    }
  ]
}