{
  "nbformat": 4,
  "nbformat_minor": 0,
  "metadata": {
    "colab": {
      "provenance": [],
      "authorship_tag": "ABX9TyNZzQXF8QSb6Uv+FRXqeAmK",
      "include_colab_link": true
    },
    "kernelspec": {
      "name": "python3",
      "display_name": "Python 3"
    },
    "language_info": {
      "name": "python"
    }
  },
  "cells": [
    {
      "cell_type": "markdown",
      "metadata": {
        "id": "view-in-github",
        "colab_type": "text"
      },
      "source": [
        "<a href=\"https://colab.research.google.com/github/anupbagale/Image_Processing/blob/main/Entropy.ipynb\" target=\"_parent\"><img src=\"https://colab.research.google.com/assets/colab-badge.svg\" alt=\"Open In Colab\"/></a>"
      ]
    },
    {
      "cell_type": "code",
      "source": [
        "from google.colab import drive\n",
        "drive.mount('/content/drive')"
      ],
      "metadata": {
        "colab": {
          "base_uri": "https://localhost:8080/"
        },
        "id": "lb1Z4vhGIyzn",
        "outputId": "b988ff12-a9e2-4997-86c0-9a167e69b68b"
      },
      "execution_count": 103,
      "outputs": [
        {
          "output_type": "stream",
          "name": "stdout",
          "text": [
            "Drive already mounted at /content/drive; to attempt to forcibly remount, call drive.mount(\"/content/drive\", force_remount=True).\n"
          ]
        }
      ]
    },
    {
      "cell_type": "code",
      "source": [
        "import cv2 as cv\n",
        "import numpy as np\n",
        "import matplotlib.pyplot as plt"
      ],
      "metadata": {
        "id": "VT2X4wOPP-iZ"
      },
      "execution_count": 110,
      "outputs": []
    },
    {
      "cell_type": "code",
      "source": [
        "def calculate_entropy(image):\n",
        "\n",
        "    hist, _ = np.histogram(image.flatten(), bins=256, range=[0, 256]) # Calculate the histogram\n",
        "\n",
        "    hist = hist / hist.sum() # Normalize the histogram to get probabilities\n",
        "\n",
        "    entropy = -np.sum([p * np.log2(p) for p in hist if p > 0]) # Calculate the entropy\n",
        "\n",
        "    return entropy\n",
        "\n",
        "image = cv2.imread(r'/content/drive/MyDrive/image_processing_lab/leena_img.png')\n",
        "image = cv2.cvtColor(image, cv2.COLOR_BGR2GRAY)\n",
        "\n",
        "\n",
        "entropy_value = calculate_entropy(image)\n",
        "print(f'Entropy of the image: {entropy_value:.3f}')"
      ],
      "metadata": {
        "colab": {
          "base_uri": "https://localhost:8080/"
        },
        "id": "1zYpDPSZ8nZG",
        "outputId": "0d968dfd-5f7b-4162-e90b-fb4c6ad4788f"
      },
      "execution_count": 118,
      "outputs": [
        {
          "output_type": "stream",
          "name": "stdout",
          "text": [
            "Entropy of the image: 7.445\n"
          ]
        }
      ]
    },
    {
      "cell_type": "code",
      "source": [],
      "metadata": {
        "id": "ZpdrEe0v91BY"
      },
      "execution_count": null,
      "outputs": []
    }
  ]
}